{
 "cells": [
  {
   "cell_type": "code",
   "execution_count": 1,
   "id": "initial_id",
   "metadata": {
    "collapsed": true,
    "ExecuteTime": {
     "end_time": "2025-03-29T06:06:56.293067200Z",
     "start_time": "2025-03-29T06:06:49.704027Z"
    }
   },
   "outputs": [],
   "source": [
    "import torch \n",
    "import torch.nn as nn \n",
    "from torch.optim import Adam\n",
    "from scr.model import KyrgyzLetterCNN\n",
    "import matplotlib.pyplot as plt\n",
    "from scr.dataset import CustomKyrgyzDataset\n",
    "from tqdm import tqdm \n",
    "import torchvision.transforms.v2 as tfs \n",
    "from torch.utils.data import DataLoader"
   ]
  },
  {
   "cell_type": "markdown",
   "source": [
    "# Загружаем данные"
   ],
   "metadata": {
    "collapsed": false
   },
   "id": "88b8e7a654a857c7"
  },
  {
   "cell_type": "code",
   "outputs": [
    {
     "name": "stderr",
     "output_type": "stream",
     "text": [
      "C:\\Users\\ASUS\\AppData\\Local\\Programs\\Python\\Python311\\Lib\\site-packages\\torchvision\\transforms\\v2\\_deprecated.py:42: UserWarning: The transform `ToTensor()` is deprecated and will be removed in a future release. Instead, please use `v2.Compose([v2.ToImage(), v2.ToDtype(torch.float32, scale=True)])`.Output is equivalent up to float precision.\n",
      "  warnings.warn(\n"
     ]
    }
   ],
   "source": [
    "train_transform = tfs.Compose([\n",
    "    tfs.RandomRotation(10),        \n",
    "    tfs.RandomAffine(0, translate=(0.1, 0.1)),       # Случайное смещение\n",
    "    tfs.ToTensor(),\n",
    "    tfs.Normalize((0.5,), (0.5,))\n",
    "])\n",
    "\n",
    "val_transfrom = tfs.Compose([\n",
    "    tfs.ToTensor(),\n",
    "    tfs.Normalize((0.5,), (0.5,))\n",
    "])"
   ],
   "metadata": {
    "collapsed": false,
    "ExecuteTime": {
     "end_time": "2025-03-29T06:07:01.458552900Z",
     "start_time": "2025-03-29T06:07:01.423777500Z"
    }
   },
   "id": "cfae5b362462bfe0",
   "execution_count": 2
  },
  {
   "cell_type": "code",
   "outputs": [],
   "source": [
    "train_dataset = CustomKyrgyzDataset('../data/train.csv', train = True, transform=train_transform)\n",
    "val_dataset = CustomKyrgyzDataset('../data/train.csv', train = True, transform=val_transfrom)\n",
    "\n",
    "train_loader = DataLoader(train_dataset, batch_size=64, shuffle=True)\n",
    "val_loader = DataLoader(val_dataset, batch_size=64, shuffle=False)"
   ],
   "metadata": {
    "collapsed": false,
    "ExecuteTime": {
     "end_time": "2025-03-29T06:23:07.595291900Z",
     "start_time": "2025-03-29T06:22:47.556814700Z"
    }
   },
   "id": "3120b6fe0d504184",
   "execution_count": 9
  },
  {
   "cell_type": "markdown",
   "source": [
    "# Модель"
   ],
   "metadata": {
    "collapsed": false
   },
   "id": "ee6533d25ac436ca"
  },
  {
   "cell_type": "code",
   "outputs": [],
   "source": [
    "model = KyrgyzLetterCNN()\n",
    "device = torch.device('cpu')\n",
    "model.to(device)\n",
    "\n",
    "loss_func = nn.CrossEntropyLoss()   # loss \n",
    "optimizer = Adam(model.parameters(), lr=0.001, weight_decay=0.001)\n",
    "\n",
    "best_val_acc = 0.0"
   ],
   "metadata": {
    "collapsed": false,
    "ExecuteTime": {
     "end_time": "2025-03-29T06:24:55.382319200Z",
     "start_time": "2025-03-29T06:24:55.346900500Z"
    }
   },
   "id": "5a774619144a4a82",
   "execution_count": 10
  },
  {
   "cell_type": "code",
   "outputs": [
    {
     "name": "stdout",
     "output_type": "stream",
     "text": [
      "Эпоха 1\n"
     ]
    },
    {
     "name": "stderr",
     "output_type": "stream",
     "text": [
      "Обучение: 100%|██████████| 1254/1254 [02:46<00:00,  7.55it/s]\n"
     ]
    },
    {
     "name": "stdout",
     "output_type": "stream",
     "text": [
      "Эпоха 1, Потери: 2941.4856778383255, Точность: 0.2927330981262389\n"
     ]
    },
    {
     "name": "stderr",
     "output_type": "stream",
     "text": [
      "Валидация: 100%|██████████| 1254/1254 [01:09<00:00, 17.92it/s]\n"
     ]
    },
    {
     "name": "stdout",
     "output_type": "stream",
     "text": [
      "Точность на валидации: 0.2927330981262389\n",
      "Модель сохранена!\n",
      "Эпоха 2\n"
     ]
    },
    {
     "name": "stderr",
     "output_type": "stream",
     "text": [
      "Обучение: 100%|██████████| 1254/1254 [02:50<00:00,  7.33it/s]\n"
     ]
    },
    {
     "name": "stdout",
     "output_type": "stream",
     "text": [
      "Эпоха 2, Потери: 1491.8641424179077, Точность: 0.6202361213269669\n"
     ]
    },
    {
     "name": "stderr",
     "output_type": "stream",
     "text": [
      "Валидация: 100%|██████████| 1254/1254 [01:11<00:00, 17.53it/s]\n"
     ]
    },
    {
     "name": "stdout",
     "output_type": "stream",
     "text": [
      "Точность на валидации: 0.6202361213269669\n",
      "Модель сохранена!\n",
      "Эпоха 3\n"
     ]
    },
    {
     "name": "stderr",
     "output_type": "stream",
     "text": [
      "Обучение: 100%|██████████| 1254/1254 [02:53<00:00,  7.23it/s]\n"
     ]
    },
    {
     "name": "stdout",
     "output_type": "stream",
     "text": [
      "Эпоха 3, Потери: 1086.8658627271652, Точность: 0.7273633949609165\n"
     ]
    },
    {
     "name": "stderr",
     "output_type": "stream",
     "text": [
      "Валидация: 100%|██████████| 1254/1254 [01:10<00:00, 17.66it/s]\n"
     ]
    },
    {
     "name": "stdout",
     "output_type": "stream",
     "text": [
      "Точность на валидации: 0.7273633949609165\n",
      "Модель сохранена!\n",
      "Эпоха 4\n"
     ]
    },
    {
     "name": "stderr",
     "output_type": "stream",
     "text": [
      "Обучение: 100%|██████████| 1254/1254 [02:53<00:00,  7.25it/s]\n"
     ]
    },
    {
     "name": "stdout",
     "output_type": "stream",
     "text": [
      "Эпоха 4, Потери: 886.9850562214851, Точность: 0.780260057596649\n"
     ]
    },
    {
     "name": "stderr",
     "output_type": "stream",
     "text": [
      "Валидация: 100%|██████████| 1254/1254 [01:12<00:00, 17.18it/s]\n"
     ]
    },
    {
     "name": "stdout",
     "output_type": "stream",
     "text": [
      "Точность на валидации: 0.780260057596649\n",
      "Модель сохранена!\n",
      "Эпоха 5\n"
     ]
    },
    {
     "name": "stderr",
     "output_type": "stream",
     "text": [
      "Обучение: 100%|██████████| 1254/1254 [03:03<00:00,  6.82it/s]\n"
     ]
    },
    {
     "name": "stdout",
     "output_type": "stream",
     "text": [
      "Эпоха 5, Потери: 762.7733498215675, Точность: 0.8121501502250259\n"
     ]
    },
    {
     "name": "stderr",
     "output_type": "stream",
     "text": [
      "Валидация: 100%|██████████| 1254/1254 [01:13<00:00, 17.11it/s]\n"
     ]
    },
    {
     "name": "stdout",
     "output_type": "stream",
     "text": [
      "Точность на валидации: 0.8121501502250259\n",
      "Модель сохранена!\n",
      "Эпоха 6\n"
     ]
    },
    {
     "name": "stderr",
     "output_type": "stream",
     "text": [
      "Обучение: 100%|██████████| 1254/1254 [03:00<00:00,  6.94it/s]\n"
     ]
    },
    {
     "name": "stdout",
     "output_type": "stream",
     "text": [
      "Эпоха 6, Потери: 671.6598982810974, Точность: 0.833530724446162\n"
     ]
    },
    {
     "name": "stderr",
     "output_type": "stream",
     "text": [
      "Валидация: 100%|██████████| 1254/1254 [01:27<00:00, 14.31it/s]\n"
     ]
    },
    {
     "name": "stdout",
     "output_type": "stream",
     "text": [
      "Точность на валидации: 0.833530724446162\n",
      "Модель сохранена!\n",
      "Эпоха 7\n"
     ]
    },
    {
     "name": "stderr",
     "output_type": "stream",
     "text": [
      "Обучение: 100%|██████████| 1254/1254 [03:24<00:00,  6.14it/s]\n"
     ]
    },
    {
     "name": "stdout",
     "output_type": "stream",
     "text": [
      "Эпоха 7, Потери: 589.1161190569401, Точность: 0.8569059878074626\n"
     ]
    },
    {
     "name": "stderr",
     "output_type": "stream",
     "text": [
      "Валидация: 100%|██████████| 1254/1254 [01:21<00:00, 15.46it/s]\n"
     ]
    },
    {
     "name": "stdout",
     "output_type": "stream",
     "text": [
      "Точность на валидации: 0.8569059878074626\n",
      "Модель сохранена!\n",
      "Эпоха 8\n"
     ]
    },
    {
     "name": "stderr",
     "output_type": "stream",
     "text": [
      "Обучение: 100%|██████████| 1254/1254 [03:23<00:00,  6.16it/s]\n"
     ]
    },
    {
     "name": "stdout",
     "output_type": "stream",
     "text": [
      "Эпоха 8, Потери: 517.576967522502, Точность: 0.8758430678318976\n"
     ]
    },
    {
     "name": "stderr",
     "output_type": "stream",
     "text": [
      "Валидация: 100%|██████████| 1254/1254 [01:23<00:00, 15.03it/s]\n"
     ]
    },
    {
     "name": "stdout",
     "output_type": "stream",
     "text": [
      "Точность на валидации: 0.8758430678318976\n",
      "Модель сохранена!\n",
      "Эпоха 9\n"
     ]
    },
    {
     "name": "stderr",
     "output_type": "stream",
     "text": [
      "Обучение: 100%|██████████| 1254/1254 [03:24<00:00,  6.13it/s]\n"
     ]
    },
    {
     "name": "stdout",
     "output_type": "stream",
     "text": [
      "Эпоха 9, Потери: 488.303666472435, Точность: 0.883896625235311\n"
     ]
    },
    {
     "name": "stderr",
     "output_type": "stream",
     "text": [
      "Валидация: 100%|██████████| 1254/1254 [01:22<00:00, 15.12it/s]\n"
     ]
    },
    {
     "name": "stdout",
     "output_type": "stream",
     "text": [
      "Точность на валидации: 0.883896625235311\n",
      "Модель сохранена!\n",
      "Эпоха 10\n"
     ]
    },
    {
     "name": "stderr",
     "output_type": "stream",
     "text": [
      "Обучение: 100%|██████████| 1254/1254 [03:25<00:00,  6.09it/s]\n"
     ]
    },
    {
     "name": "stdout",
     "output_type": "stream",
     "text": [
      "Эпоха 10, Потери: 447.2346366047859, Точность: 0.8928727263660504\n"
     ]
    },
    {
     "name": "stderr",
     "output_type": "stream",
     "text": [
      "Валидация: 100%|██████████| 1254/1254 [01:33<00:00, 13.35it/s]"
     ]
    },
    {
     "name": "stdout",
     "output_type": "stream",
     "text": [
      "Точность на валидации: 0.8928727263660504\n",
      "Модель сохранена!\n"
     ]
    },
    {
     "name": "stderr",
     "output_type": "stream",
     "text": [
      "\n"
     ]
    }
   ],
   "source": [
    "for epoch in range(1, 11):\n",
    "    model.train()\n",
    "    train_loss = 0.0\n",
    "    correct = 0 \n",
    "    total = 0\n",
    "    print(f'Эпоха {epoch}')\n",
    "    for images, labels in tqdm(train_loader, desc= 'Обучение'):\n",
    "        images, labels = images.to(device), labels.to(device)\n",
    "        outputs = model(images)\n",
    "        loss = loss_func(outputs, labels)\n",
    "        \n",
    "        optimizer.zero_grad()\n",
    "        loss.backward()\n",
    "        optimizer.step()\n",
    "        \n",
    "        train_loss += loss.item()\n",
    "        _, predicted = torch.max(outputs, 1)\n",
    "        correct += (predicted == labels).sum().item()\n",
    "        total += labels.size(0)\n",
    "        \n",
    "    train_acc = correct / total\n",
    "    print(f'Эпоха {epoch}, Потери: {train_loss}, Точность: {train_acc}')\n",
    "    \n",
    "    model.eval()\n",
    "    val_correct = 0\n",
    "    val_total = 0\n",
    "    with torch.no_grad():\n",
    "        for images, labels in tqdm(val_loader, desc='Валидация'):\n",
    "            images, labels = images.to(device), labels.to(device)\n",
    "            outputs = model(images)\n",
    "            _, predicted = outputs.max(1)\n",
    "            val_correct += (predicted == labels).sum().item()\n",
    "            val_total += labels.size(0)\n",
    "            \n",
    "    val_acc = correct / total\n",
    "    print(f'Точность на валидации: {val_acc}')\n",
    "    \n",
    "        # Сохраняем лучшую модель\n",
    "    if val_acc > best_val_acc:\n",
    "        best_val_acc = val_acc\n",
    "        torch.save(model.state_dict(), \"../models/kyrgyzletters_model.pt\")\n",
    "        print(\"Модель сохранена!\")"
   ],
   "metadata": {
    "collapsed": false,
    "ExecuteTime": {
     "end_time": "2025-03-29T07:09:11.653294800Z",
     "start_time": "2025-03-29T06:24:57.369186Z"
    }
   },
   "id": "173aeac6de721b84",
   "execution_count": 11
  }
 ],
 "metadata": {
  "kernelspec": {
   "display_name": "Python 3",
   "language": "python",
   "name": "python3"
  },
  "language_info": {
   "codemirror_mode": {
    "name": "ipython",
    "version": 2
   },
   "file_extension": ".py",
   "mimetype": "text/x-python",
   "name": "python",
   "nbconvert_exporter": "python",
   "pygments_lexer": "ipython2",
   "version": "2.7.6"
  }
 },
 "nbformat": 4,
 "nbformat_minor": 5
}
